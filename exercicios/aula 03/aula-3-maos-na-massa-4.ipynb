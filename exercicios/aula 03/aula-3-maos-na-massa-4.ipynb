{
 "cells": [
  {
   "cell_type": "markdown",
   "metadata": {},
   "source": [
    "# Importação de arquivos excel com pandas"
   ]
  },
  {
   "cell_type": "markdown",
   "metadata": {},
   "source": [
    "1. Importe, utilizando o pacote pandas, o arquivo **datasets/battledeath.xlsx** e imprima o nome das planilhas contidas neste arquivo que contêm as taxas de mortalidade ajustadas por idade devido à guerra em vários países ao longo de vários anos."
   ]
  },
  {
   "cell_type": "code",
   "execution_count": null,
   "metadata": {},
   "outputs": [],
   "source": []
  },
  {
   "cell_type": "markdown",
   "metadata": {},
   "source": [
    "2. Leia a planilha '2002' e armazene o conteúdo do dataframe **df_2002**. Exiba as primeiras linhas do dataframe."
   ]
  },
  {
   "cell_type": "code",
   "execution_count": null,
   "metadata": {},
   "outputs": [],
   "source": []
  },
  {
   "cell_type": "markdown",
   "metadata": {},
   "source": [
    "3. Leia a planilha '2004' e armazene o conteúdo do dataframe **df_2004**. Exiba as primeiras linhas do dataframe."
   ]
  },
  {
   "cell_type": "code",
   "execution_count": null,
   "metadata": {},
   "outputs": [],
   "source": []
  },
  {
   "cell_type": "markdown",
   "metadata": {},
   "source": [
    "4. Leia as planilhas anteriores saltando a primeira linha (skirows=[1]) e renomeando as colunas para \"Pais e Idade Ajustada (2002 ou 2004)\" (names=[\"Pais\", \"Mortalidade Ajustada (2002 ou 2004\"]). Utilize a posição da planilha ao invés do nome."
   ]
  },
  {
   "cell_type": "code",
   "execution_count": null,
   "metadata": {},
   "outputs": [],
   "source": []
  }
 ],
 "metadata": {
  "kernelspec": {
   "display_name": "Python 3",
   "language": "python",
   "name": "python3"
  },
  "language_info": {
   "codemirror_mode": {
    "name": "ipython",
    "version": 3
   },
   "file_extension": ".py",
   "mimetype": "text/x-python",
   "name": "python",
   "nbconvert_exporter": "python",
   "pygments_lexer": "ipython3",
   "version": "3.7.1"
  }
 },
 "nbformat": 4,
 "nbformat_minor": 2
}
