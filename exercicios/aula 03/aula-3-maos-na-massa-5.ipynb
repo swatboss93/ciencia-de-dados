{
 "cells": [
  {
   "cell_type": "markdown",
   "metadata": {},
   "source": [
    "# Manipulando banco de dados relacionais SQLALchemy"
   ]
  },
  {
   "cell_type": "markdown",
   "metadata": {},
   "source": [
    "1. Escreva um vínculo (engine) com o banco de dados datasets/Chinook.sqlite. O banco de dados **Chinook** (https://archive.codeplex.com/?p=chinookdatabase) contém informações sobre uma loja de mídia digital semi-ficcional na qual os dados de mídia são reais e os dados de clientes, funcionários e vendas foram criados manualmente."
   ]
  },
  {
   "cell_type": "code",
   "execution_count": null,
   "metadata": {},
   "outputs": [],
   "source": []
  },
  {
   "cell_type": "markdown",
   "metadata": {},
   "source": [
    "2. Mostre os nomes de todas as tabelas do banco de dados Chinook. "
   ]
  },
  {
   "cell_type": "code",
   "execution_count": null,
   "metadata": {},
   "outputs": [],
   "source": []
  },
  {
   "cell_type": "markdown",
   "metadata": {},
   "source": [
    "3. Mostre todas das informações de todas as colunas e das 10 primeiras linhas da tabela **Album**. Armezene essas informações em um dataframe"
   ]
  },
  {
   "cell_type": "code",
   "execution_count": null,
   "metadata": {},
   "outputs": [],
   "source": []
  },
  {
   "cell_type": "markdown",
   "metadata": {},
   "source": [
    "4. Mostre os contéudo das colunas **lastname** e **title** da tabela **employee** para 3 empregados apenas. Utilize a cláusula **with**."
   ]
  },
  {
   "cell_type": "code",
   "execution_count": null,
   "metadata": {},
   "outputs": [],
   "source": []
  },
  {
   "cell_type": "markdown",
   "metadata": {},
   "source": [
    "5. Mostre todas as informações de 3 empregados cujo **id** é maior ou igual a 6."
   ]
  },
  {
   "cell_type": "code",
   "execution_count": null,
   "metadata": {},
   "outputs": [],
   "source": []
  },
  {
   "cell_type": "markdown",
   "metadata": {},
   "source": [
    "6. Mostre todas as informações de todos empregados. Ordene cronologicamente pela data de nascimento (**birthdate**) do empregado."
   ]
  },
  {
   "cell_type": "code",
   "execution_count": null,
   "metadata": {},
   "outputs": [],
   "source": []
  },
  {
   "cell_type": "markdown",
   "metadata": {},
   "source": [
    "7. Mostre todas as informações de todos empregados os empregado cujo **id** é menor ou igual 6. Ordene cronologicamente pela data de nascimento (**birthdate**) do empregado."
   ]
  },
  {
   "cell_type": "code",
   "execution_count": null,
   "metadata": {},
   "outputs": [],
   "source": []
  },
  {
   "cell_type": "markdown",
   "metadata": {},
   "source": [
    "8. Mostre o título (**title**) do album (**tabela album**) e nome (**name**) do artista (**tabela artist**)."
   ]
  },
  {
   "cell_type": "code",
   "execution_count": null,
   "metadata": {},
   "outputs": [],
   "source": []
  },
  {
   "cell_type": "markdown",
   "metadata": {},
   "source": [
    "9. Mostre o resultado da junção da tabela **PlaylistTrack** e **Track** onde o campo Milliseconds é menor do que 250000. As tabelas são relacionadas pelo campo **TrackId**."
   ]
  },
  {
   "cell_type": "code",
   "execution_count": null,
   "metadata": {},
   "outputs": [],
   "source": []
  }
 ],
 "metadata": {
  "kernelspec": {
   "display_name": "Python 3",
   "language": "python",
   "name": "python3"
  },
  "language_info": {
   "codemirror_mode": {
    "name": "ipython",
    "version": 3
   },
   "file_extension": ".py",
   "mimetype": "text/x-python",
   "name": "python",
   "nbconvert_exporter": "python",
   "pygments_lexer": "ipython3",
   "version": "3.7.1"
  }
 },
 "nbformat": 4,
 "nbformat_minor": 2
}
