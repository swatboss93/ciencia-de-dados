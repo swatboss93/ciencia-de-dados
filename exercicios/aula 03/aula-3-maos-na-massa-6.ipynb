{
 "cells": [
  {
   "cell_type": "markdown",
   "metadata": {},
   "source": [
    "# Manipulando banco de dados relacionais SQLALchemy (Modo ORM)"
   ]
  },
  {
   "cell_type": "markdown",
   "metadata": {},
   "source": [
    "1. Escreva um vínculo (engine) com o banco de dados datasets/Chinook.sqlite. O banco de dados **Chinook** (https://archive.codeplex.com/?p=chinookdatabase) contém informações sobre uma loja de mídia digital semi-ficcional na qual os dados de mídia são reais e os dados de clientes, funcionários e vendas foram criados manualmente."
   ]
  },
  {
   "cell_type": "code",
   "execution_count": null,
   "metadata": {},
   "outputs": [],
   "source": []
  },
  {
   "cell_type": "markdown",
   "metadata": {},
   "source": [
    "2. Mostre os detalhes (estrutura) da tabela **Employee** do banco de dados **Chinook**."
   ]
  },
  {
   "cell_type": "code",
   "execution_count": null,
   "metadata": {},
   "outputs": [],
   "source": []
  },
  {
   "cell_type": "markdown",
   "metadata": {},
   "source": [
    "4. Mostre os nomes das colunas da tabela **Employee** do banco de dados **Chinook**."
   ]
  },
  {
   "cell_type": "code",
   "execution_count": null,
   "metadata": {},
   "outputs": [],
   "source": []
  },
  {
   "cell_type": "markdown",
   "metadata": {},
   "source": [
    "5. Mostre todas as informações de todos os empregados na tabela **Employee** do banco de dados **Chinook**."
   ]
  },
  {
   "cell_type": "code",
   "execution_count": null,
   "metadata": {},
   "outputs": [],
   "source": []
  },
  {
   "cell_type": "markdown",
   "metadata": {},
   "source": [
    "6. Mostre todas as informações de todos os empregados na tabela **Employee** do banco de dados **Chinook** cujo id (**EmployeeId**) seja maior do 6."
   ]
  },
  {
   "cell_type": "code",
   "execution_count": null,
   "metadata": {},
   "outputs": [],
   "source": []
  },
  {
   "cell_type": "markdown",
   "metadata": {},
   "source": [
    "7. Mostre todas as informações de todos os empregados na tabela **Employee** do banco de dados **Chinook** cujo id (**EmployeeId**) sejam **3 ou 4**."
   ]
  },
  {
   "cell_type": "code",
   "execution_count": null,
   "metadata": {},
   "outputs": [],
   "source": []
  },
  {
   "cell_type": "markdown",
   "metadata": {},
   "source": [
    "8. Mostre todas as informações de todos os empregados na tabela **Employee** do banco de dados **Chinook** cujo id (**EmployeeId**) seja < 6 e o primeiro nome **FirstName** seja igual a 'Jane'."
   ]
  },
  {
   "cell_type": "code",
   "execution_count": null,
   "metadata": {},
   "outputs": [],
   "source": []
  },
  {
   "cell_type": "markdown",
   "metadata": {},
   "source": [
    "9. Mostre todas as informações de todos empregados. Ordene cronologicamente pela data de nascimento (**birthdate**) do empregado."
   ]
  },
  {
   "cell_type": "code",
   "execution_count": null,
   "metadata": {},
   "outputs": [],
   "source": []
  },
  {
   "cell_type": "markdown",
   "metadata": {},
   "source": [
    "10. Mostre todas as informações de todos empregados os empregado cujo **id** é menor ou igual 6. Ordene cronologicamente pela data de nascimento (**birthdate**) do empregado."
   ]
  },
  {
   "cell_type": "code",
   "execution_count": null,
   "metadata": {},
   "outputs": [],
   "source": []
  },
  {
   "cell_type": "markdown",
   "metadata": {},
   "source": [
    "11. Mostre o título (**title**) do album (**tabela Album**) e nome (**name**) do artista (**tabela Artist**)."
   ]
  },
  {
   "cell_type": "code",
   "execution_count": null,
   "metadata": {},
   "outputs": [],
   "source": []
  },
  {
   "cell_type": "markdown",
   "metadata": {},
   "source": [
    "12. Mostre o resultado da junção da tabela **PlaylistTrack** e **Track** onde o campo Milliseconds é menor do que 250000. As tabelas são relacionadas pelo campo **TrackId**."
   ]
  },
  {
   "cell_type": "code",
   "execution_count": null,
   "metadata": {},
   "outputs": [],
   "source": []
  }
 ],
 "metadata": {
  "kernelspec": {
   "display_name": "Python 3",
   "language": "python",
   "name": "python3"
  },
  "language_info": {
   "codemirror_mode": {
    "name": "ipython",
    "version": 3
   },
   "file_extension": ".py",
   "mimetype": "text/x-python",
   "name": "python",
   "nbconvert_exporter": "python",
   "pygments_lexer": "ipython3",
   "version": "3.7.1"
  }
 },
 "nbformat": 4,
 "nbformat_minor": 2
}
