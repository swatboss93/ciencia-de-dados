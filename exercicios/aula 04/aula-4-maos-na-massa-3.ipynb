{
 "cells": [
  {
   "cell_type": "markdown",
   "metadata": {},
   "source": [
    "# Transformando o dataframe"
   ]
  },
  {
   "cell_type": "markdown",
   "metadata": {},
   "source": [
    "1. Leia o arquivo **datasets/airquality.csv** e armaze seu contéudo no data **qualities**."
   ]
  },
  {
   "cell_type": "code",
   "execution_count": 1,
   "metadata": {},
   "outputs": [],
   "source": [
    "import pandas as pd\n"
   ]
  },
  {
   "cell_type": "code",
   "execution_count": null,
   "metadata": {},
   "outputs": [],
   "source": []
  },
  {
   "cell_type": "markdown",
   "metadata": {},
   "source": [
    "2. Mostre as linhas iniciais do dataframe **qualities**."
   ]
  },
  {
   "cell_type": "code",
   "execution_count": null,
   "metadata": {},
   "outputs": [],
   "source": []
  },
  {
   "cell_type": "markdown",
   "metadata": {},
   "source": [
    "3. Transforme as variáveis **Ozone**, **Solar.R**, **Wind**, **Temp** que estão em colunas para linhas utilizando o método **melt** do **pandas**. Armazene o dataframe transformado no dataframe **qualities_melted**."
   ]
  },
  {
   "cell_type": "code",
   "execution_count": null,
   "metadata": {},
   "outputs": [],
   "source": []
  },
  {
   "cell_type": "markdown",
   "metadata": {},
   "source": [
    "4. Repita a transformação anterior, modificando o nome da coluna **variable** para **medida**, e o nome da coluna **value** para **leitura**."
   ]
  },
  {
   "cell_type": "code",
   "execution_count": null,
   "metadata": {},
   "outputs": [],
   "source": []
  },
  {
   "cell_type": "markdown",
   "metadata": {},
   "source": [
    "5. Faça o download do arquivo (**https://cdncontribute.geeksforgeeks.org/wp-content/uploads/nba.csv**) que contém dos jogadores da NBA. Armazene o seu conteúdo no arquivo **datasets/nba.csv**"
   ]
  },
  {
   "cell_type": "code",
   "execution_count": null,
   "metadata": {},
   "outputs": [],
   "source": []
  },
  {
   "cell_type": "markdown",
   "metadata": {},
   "source": [
    "6. Verifique a estrutura do arquivo **datasets/nba_data.csv** com os comandos **head** and **tail** do Linux."
   ]
  },
  {
   "cell_type": "code",
   "execution_count": null,
   "metadata": {},
   "outputs": [],
   "source": []
  },
  {
   "cell_type": "code",
   "execution_count": null,
   "metadata": {},
   "outputs": [],
   "source": []
  },
  {
   "cell_type": "markdown",
   "metadata": {},
   "source": [
    "7. Importe o arquivo **datasets/nba.csv** para o dataframe **nbas**. Utilize o parâmetro **skipfooter=1** para o comando **read_csv** ignorar a última linha do arquivo."
   ]
  },
  {
   "cell_type": "code",
   "execution_count": null,
   "metadata": {},
   "outputs": [],
   "source": []
  },
  {
   "cell_type": "markdown",
   "metadata": {},
   "source": [
    "8. Plote um histograma das idades (**Age**) dos jogadores no dataframe **nbas**."
   ]
  },
  {
   "cell_type": "code",
   "execution_count": null,
   "metadata": {},
   "outputs": [],
   "source": []
  },
  {
   "cell_type": "markdown",
   "metadata": {},
   "source": [
    "9. Transforme as variáveis **Height** e **Weight** que estão em colunas para linhas utilizando o método **melt** do **pandas**. Armazene o dataframe transformado no dataframe **nbas_melted**. O nome da coluna **variable** deverá ser **medida** e da coluna value deverá ser **leitura**."
   ]
  },
  {
   "cell_type": "code",
   "execution_count": null,
   "metadata": {},
   "outputs": [],
   "source": []
  },
  {
   "cell_type": "markdown",
   "metadata": {},
   "source": [
    "10. Realize a \"pivotagem\" do dataframe **qualities_melted** criado anteriormente. As variáveis indexadores deverão ser **Month** e **Day**. Armazene o conteúdo do dataframe **pivotado** no dataframe **qualities_pivoted**. Mostre as linhas iniciais do dataframe."
   ]
  },
  {
   "cell_type": "code",
   "execution_count": null,
   "metadata": {},
   "outputs": [],
   "source": []
  },
  {
   "cell_type": "markdown",
   "metadata": {},
   "source": [
    "11. Reset index do dataframe **qualities_pivoted** e armazene no dataframe **qualities_pivoted_reseted**. Mostre as linhas iniciais do dataframe **qualities_pivoted_reseted**."
   ]
  },
  {
   "cell_type": "code",
   "execution_count": null,
   "metadata": {},
   "outputs": [],
   "source": []
  },
  {
   "cell_type": "markdown",
   "metadata": {},
   "source": [
    "12. Leia o arquivo **datasets/dados.csv** e armazene no dataframe **dados**. Mostre as primeiras linhas do dataframe **dados**."
   ]
  },
  {
   "cell_type": "code",
   "execution_count": null,
   "metadata": {},
   "outputs": [],
   "source": []
  },
  {
   "cell_type": "markdown",
   "metadata": {},
   "source": [
    "13. Transforme as variáveis que iniciam com **m** e com **f** que estão em colunas para linhas utilizando o método **melt** do **pandas**. Nomeia a coluna **variable** para **gender_age_group** e a coluna **values** para **count**. Armazene o dataframe transformado no dataframe **dados_melted**."
   ]
  },
  {
   "cell_type": "code",
   "execution_count": null,
   "metadata": {},
   "outputs": [],
   "source": []
  },
  {
   "cell_type": "markdown",
   "metadata": {},
   "source": [
    "14. Divida a coluna **gender_age_group** nas colunas **gender** e **age_group** do dataframe **dados_melted**."
   ]
  },
  {
   "cell_type": "code",
   "execution_count": null,
   "metadata": {},
   "outputs": [],
   "source": []
  },
  {
   "cell_type": "markdown",
   "metadata": {},
   "source": [
    "15. Remova a coluna **gender_age_group** do dataframe **dados_melted**."
   ]
  },
  {
   "cell_type": "code",
   "execution_count": null,
   "metadata": {},
   "outputs": [],
   "source": []
  },
  {
   "cell_type": "code",
   "execution_count": null,
   "metadata": {},
   "outputs": [],
   "source": []
  }
 ],
 "metadata": {
  "kernelspec": {
   "display_name": "Python 3",
   "language": "python",
   "name": "python3"
  },
  "language_info": {
   "codemirror_mode": {
    "name": "ipython",
    "version": 3
   },
   "file_extension": ".py",
   "mimetype": "text/x-python",
   "name": "python",
   "nbconvert_exporter": "python",
   "pygments_lexer": "ipython3",
   "version": "3.7.1"
  }
 },
 "nbformat": 4,
 "nbformat_minor": 2
}
